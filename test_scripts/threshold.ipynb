{
 "cells": [
  {
   "cell_type": "code",
   "execution_count": null,
   "metadata": {},
   "outputs": [],
   "source": [
    "# Python program to illustrate\n",
    "# simple thresholding type on an image\n",
    "\t\n",
    "# organizing imports\n",
    "import cv2\n",
    "import numpy as np\n",
    "\n",
    "# path to input image is specified and\n",
    "# image is loaded with imread command\n",
    "filepath = \"C:\\\\Users\\\\derek\\\\Dropbox\\\\Back to School\\\\Chico State\\\\Courses\\\\2022 Fall\\\\CSCI 490 Capstone\\\\capstone-nms-galactic-map\\\\img\\\\20220912233412_1.jpg\"\n",
    "\n",
    "image = cv2.imread(filepath)\n",
    "# image = cv2.resize(image, (3840, 2160), interpolation = cv2.INTER_AREA)  # 4k\n",
    "# image = cv2.resize(image, (2560, 1440), interpolation = cv2.INTER_AREA)  # 2k \n",
    "# image = cv2.resize(image, (1920,1080), interpolation = cv2.INTER_AREA)   # 1080p\n",
    "image = cv2.resize(image, (1280, 720), interpolation = cv2.INTER_AREA)   # 7209 \n",
    "\n",
    "\n",
    "# cv2.cvtColor is applied over the\n",
    "# image input with applied parameters\n",
    "# to convert the image in grayscale\n",
    "img = cv2.cvtColor(image, cv2.COLOR_BGR2GRAY)\n",
    "\n",
    "# applying different thresholding\n",
    "# techniques on the input image\n",
    "# all pixels value above 120 will\n",
    "# be set to 255\n",
    "ret, thresh1 = cv2.threshold(img, 120, 255, cv2.THRESH_BINARY)\n",
    "ret, thresh2 = cv2.threshold(img, 120, 255, cv2.THRESH_BINARY_INV)\n",
    "ret, thresh3 = cv2.threshold(img, 120, 255, cv2.THRESH_TRUNC)\n",
    "ret, thresh4 = cv2.threshold(img, 120, 255, cv2.THRESH_TOZERO)\n",
    "ret, thresh5 = cv2.threshold(img, 120, 255, cv2.THRESH_TOZERO_INV)\n",
    "\n",
    "# the window showing output images\n",
    "# with the corresponding thresholding\n",
    "# techniques applied to the input images\n",
    "cv2.imshow('Binary Threshold', thresh1)\n",
    "cv2.imshow('Binary Threshold Inverted', thresh2)\n",
    "cv2.imshow('Truncated Threshold', thresh3)\n",
    "cv2.imshow('Set to 0', thresh4)\n",
    "cv2.imshow('Set to 0 Inverted', thresh5)\n",
    "\n",
    "# De-allocate any associated memory usage\n",
    "if cv2.waitKey(0) & 0xff == 27:\n",
    "\tcv2.destroyAllWindows()\n"
   ]
  }
 ],
 "metadata": {
  "kernelspec": {
   "display_name": "Python 3.10.7 64-bit (microsoft store)",
   "language": "python",
   "name": "python3"
  },
  "language_info": {
   "name": "python",
   "version": "3.10.8"
  },
  "orig_nbformat": 4,
  "vscode": {
   "interpreter": {
    "hash": "793e1c3583c4c2649ad3fb639f030d9c116c6f8ff8b7683fb3d40af4e681ac4a"
   }
  }
 },
 "nbformat": 4,
 "nbformat_minor": 2
}
