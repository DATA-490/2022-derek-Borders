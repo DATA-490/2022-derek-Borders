{
 "cells": [
  {
   "cell_type": "code",
   "execution_count": 1,
   "metadata": {},
   "outputs": [],
   "source": [
    "import cv2\n",
    "import numpy as np\n",
    "from PIL import Image\n",
    "from math import ceil"
   ]
  },
  {
   "cell_type": "code",
   "execution_count": 2,
   "metadata": {},
   "outputs": [
    {
     "name": "stdout",
     "output_type": "stream",
     "text": [
      "Height: 2160 \n",
      "Width: 3840\n"
     ]
    }
   ],
   "source": [
    "# Adapted from: https://www.geeksforgeeks.org/python-pil-image-crop-method/\n",
    "\n",
    "# Importing Image class from PIL module\n",
    "# from PIL import Image\n",
    "\n",
    "filepath = \"C:\\\\Users\\\\derek\\\\Dropbox\\\\Back to School\\\\Chico State\\\\Courses\\\\2022 Fall\\\\CSCI 490 Capstone\\\\capstone-nms-galactic-map\\\\img\\\\20220912233412_1.jpg\"\n",
    "\n",
    "# Opens a image in RGB mode\n",
    "im = Image.open(filepath)\n",
    " \n",
    "# Size of the image in pixels (size of original image)\n",
    "# (This is not mandatory)\n",
    "width, height = im.size\n",
    " \n",
    "# Show size\n",
    "print(\"Height:\",height, \"\\nWidth:\",width)\n",
    "# View Original Image\n",
    "# im.show()"
   ]
  },
  {
   "cell_type": "code",
   "execution_count": 3,
   "metadata": {},
   "outputs": [],
   "source": [
    "def isolate_glyphs_2160(img):\n",
    "\t'''Isolates 12 glyphs and stores them in an array\n",
    "\t'''\n",
    "\t# Setting the points for cropped image\n",
    "\tglyph_width = 64\n",
    "\tleft = 23 \n",
    "\tright = 87 \n",
    "\ttop = height - 135\n",
    "\tbottom = height - 65 \n",
    "\t\n",
    "\t# Cropped image of above dimension\n",
    "\t# (It will not change original image)\n",
    "\t# return img.crop((left, top, right, bottom))\n",
    "\n",
    "\t# Isolate each glyph\n",
    "\tglyphs = [img.crop((left + i*glyph_width, top, right + i*glyph_width, bottom)) for i in range(12)]\n",
    "\treturn glyphs"
   ]
  },
  {
   "cell_type": "code",
   "execution_count": 4,
   "metadata": {},
   "outputs": [],
   "source": [
    "def isolate_glyphs_1080(img):\n",
    "\t'''Isolates 12 glyphs and stores them in an array\n",
    "\t'''\n",
    "\t# Setting the points for cropped image\n",
    "\tglyph_width = 32\n",
    "\tleft = 12 \n",
    "\tright = 43 \n",
    "\ttop = height - 67\n",
    "\tbottom = height - 37 \n",
    "\t\n",
    "\t# Cropped image of above dimension\n",
    "\t# (It will not change original image)\n",
    "\t# return img.crop((left, top, right, bottom))\n",
    "\n",
    "\t# Isolate each glyph\n",
    "\tglyphs = [img.crop((left + i*glyph_width, top, right + i*glyph_width, bottom)) for i in range(12)]\n",
    "\treturn glyphs"
   ]
  },
  {
   "cell_type": "code",
   "execution_count": 5,
   "metadata": {},
   "outputs": [],
   "source": [
    "def cv2pil_col(cv_image):\n",
    "    # convert from openCV2 to PIL. Notice the COLOR_BGR2RGB which means that \n",
    "    # the color is converted from BGR to RGB\n",
    "    color_coverted = cv2.cvtColor(cv_image, cv2.COLOR_BGR2RGB)\n",
    "    pil_image=Image.fromarray(color_coverted)\n",
    "    return pil_image\n",
    "\n",
    "def cv2pil_bw(cv_image):\n",
    "    # convert from openCV2 to PIL. Notice the COLOR_BGR2RGB which means that \n",
    "    # the color is converted from BGR to RGB\n",
    "    # color_coverted = cv2.cvtColor(cv_image, cv2.COLOR_BGR2RGB)\n",
    "    pil_image=Image.fromarray(cv_image)\n",
    "    return pil_image\n"
   ]
  },
  {
   "cell_type": "code",
   "execution_count": 6,
   "metadata": {},
   "outputs": [
    {
     "ename": "NameError",
     "evalue": "name 'cv2pil' is not defined",
     "output_type": "error",
     "traceback": [
      "\u001b[1;31m---------------------------------------------------------------------------\u001b[0m",
      "\u001b[1;31mNameError\u001b[0m                                 Traceback (most recent call last)",
      "Cell \u001b[1;32mIn [6], line 7\u001b[0m\n\u001b[0;32m      3\u001b[0m \u001b[39mfrom\u001b[39;00m \u001b[39mPIL\u001b[39;00m \u001b[39mimport\u001b[39;00m Image\n\u001b[0;32m      5\u001b[0m opencv_image\u001b[39m=\u001b[39mcv2\u001b[39m.\u001b[39mimread(filepath) \u001b[39m# open image using openCV2\u001b[39;00m\n\u001b[1;32m----> 7\u001b[0m cv2pil(opencv_image)\u001b[39m.\u001b[39mshow()\n",
      "\u001b[1;31mNameError\u001b[0m: name 'cv2pil' is not defined"
     ]
    }
   ],
   "source": [
    "import cv2\n",
    "import numpy as np\n",
    "from PIL import Image\n",
    "\n",
    "opencv_image=cv2.imread(filepath) # open image using openCV2\n",
    "\n",
    "cv2pil(opencv_image).show()"
   ]
  },
  {
   "cell_type": "code",
   "execution_count": null,
   "metadata": {},
   "outputs": [
    {
     "name": "stdout",
     "output_type": "stream",
     "text": [
      "Original Dimensions :  (2160, 3840, 3)\n",
      "Resized Dimensions :  (1080, 1920, 3)\n"
     ]
    }
   ],
   "source": [
    "img = cv2.imread(filepath, cv2.IMREAD_UNCHANGED)\n",
    " \n",
    "print('Original Dimensions : ',img.shape)\n",
    "cv2pil(img).show()\n",
    " \n",
    "width = 1920\n",
    "height = 1080\n",
    "dim = (width, height)\n",
    " \n",
    "# resize image\n",
    "resized = cv2.resize(img, dim, interpolation = cv2.INTER_AREA)\n",
    " \n",
    "print('Resized Dimensions : ',resized.shape)\n",
    " \n",
    "cv2pil(resized).show()\n",
    "\n",
    "# cv2.imshow(\"Resized image\", resized)\n",
    "# cv2.waitKey(0)\n",
    "# cv2.destroyAllWindows()"
   ]
  },
  {
   "cell_type": "code",
   "execution_count": null,
   "metadata": {},
   "outputs": [
    {
     "name": "stdout",
     "output_type": "stream",
     "text": [
      "0\n",
      "1\n"
     ]
    }
   ],
   "source": [
    "print(cv2.THRESH_BINARY)\n",
    "print(cv2.THRESH_BINARY_INV)"
   ]
  },
  {
   "cell_type": "markdown",
   "metadata": {},
   "source": [
    "### Grayscale"
   ]
  },
  {
   "cell_type": "code",
   "execution_count": null,
   "metadata": {},
   "outputs": [],
   "source": [
    "gray = cv2.cvtColor(img, cv2.COLOR_BGR2GRAY)\n",
    "cv2pil(gray).show()"
   ]
  },
  {
   "cell_type": "markdown",
   "metadata": {},
   "source": [
    "### Binary Threshold  "
   ]
  },
  {
   "cell_type": "markdown",
   "metadata": {},
   "source": [
    "### Multi Stage Preprocessing  "
   ]
  },
  {
   "cell_type": "code",
   "execution_count": 161,
   "metadata": {},
   "outputs": [],
   "source": [
    "brt_thresh = 1 # 0-1      # How light of pixels to keep\n",
    "threshold = min(254, max(ceil(254*brt_thresh),0)) # Binary Threshold 0-254\n",
    "smooth_radius = 4       # 0-10\n",
    "sharp_wt = 50           # 0-100\n",
    "upscale = 4\n",
    "zoom = 8\n",
    "# Size & Shape\n",
    "width = 1920\n",
    "height = 1080\n",
    "glyph_width = 32\n",
    "left = 12 \n",
    "right = glyph_width*12+left\n",
    "top = height - 67\n",
    "bottom = height - 35 \n",
    "\n",
    "# filepath = \"C:\\\\Users\\\\derek\\\\Dropbox\\\\Back to School\\\\Chico State\\\\Courses\\\\2022 Fall\\\\CSCI 490 Capstone\\\\capstone-nms-galactic-map\\\\img\\\\20220912233412_1.jpg\"\n",
    "# filepath = \"C:\\\\Users\\\\derek\\\\Dropbox\\\\Back to School\\\\Chico State\\\\Courses\\\\2022 Fall\\\\CSCI 490 Capstone\\\\capstone-nms-galactic-map\\\\img\\\\20220912225554_1.jpg\"\n",
    "filepath = \"C:\\\\Users\\\\derek\\\\Dropbox\\\\Back to School\\\\Chico State\\\\Courses\\\\2022 Fall\\\\CSCI 490 Capstone\\\\capstone-nms-galactic-map\\\\img\\\\20220912222332_1.jpg\"\n",
    "# Get image\n",
    "img = cv2.imread(filepath, cv2.IMREAD_UNCHANGED)    \n",
    "\n",
    "# Upscale\n",
    "newsize = (img.shape[1]*upscale, img.shape[0]*upscale)\n",
    "img = cv2.resize(img, newsize)\n",
    "\n",
    "# Unsharp Smoothing\n",
    "smoothed = cv2.GaussianBlur(img, (1+2*smooth_radius, 1+2*smooth_radius), 10) # Smoothing\n",
    "img = cv2.addWeighted(img, sharp_wt, smoothed, 1-sharp_wt, 0)\n",
    "\n",
    "# Grayscale\n",
    "img = cv2.cvtColor(img, cv2.COLOR_BGR2GRAY)\n",
    "# Binary\n",
    "ret, img = cv2.threshold(img, threshold, 255, cv2.THRESH_BINARY)\n",
    "# ret, img = cv2.threshold(img, threshold, 255, cv2.THRESH_BINARY_INV)\n",
    "# img = cv2.cvtColor(img, cv2.COLOR_BGR2GRAY)\n",
    "# img = cv2.GaussianBlur(img, (9, 9), 10) # Smoothing\n",
    "\n",
    "\n",
    "# Resize\n",
    "img = cv2.resize(img, (1920, 1080))\n",
    "# Crop\n",
    "img = img[top:bottom,left:right]\n",
    "# Zoom\n",
    "newsize = (img.shape[1]*zoom, img.shape[0]*zoom)\n",
    "img = cv2.resize(img, newsize)\n",
    "# Show\n",
    "cv2pil_col(img).show()"
   ]
  },
  {
   "cell_type": "code",
   "execution_count": 8,
   "metadata": {},
   "outputs": [
    {
     "data": {
      "image/png": "[encoded data removed]",
      "text/plain": [
       "<PIL.Image.Image image mode=RGB size=64x70>"
      ]
     },
     "metadata": {},
     "output_type": "display_data"
    },
    {
     "data": {
      "image/png": "[encoded data removed]",
      "text/plain": [
       "<PIL.Image.Image image mode=RGB size=64x70>"
      ]
     },
     "metadata": {},
     "output_type": "display_data"
    },
    {
     "data": {
      "image/png": "[encoded data removed]",
      "text/plain": [
       "<PIL.Image.Image image mode=RGB size=64x70>"
      ]
     },
     "metadata": {},
     "output_type": "display_data"
    },
    {
     "data": {
      "image/png": "[encoded data removed]",
      "text/plain": [
       "<PIL.Image.Image image mode=RGB size=64x70>"
      ]
     },
     "metadata": {},
     "output_type": "display_data"
    },
    {
     "data": {
      "image/png": "[encoded data removed]",
      "text/plain": [
       "<PIL.Image.Image image mode=RGB size=64x70>"
      ]
     },
     "metadata": {},
     "output_type": "display_data"
    },
    {
     "data": {
      "image/png": "[encoded data removed]",
      "text/plain": [
       "<PIL.Image.Image image mode=RGB size=64x70>"
      ]
     },
     "metadata": {},
     "output_type": "display_data"
    },
    {
     "data": {
      "image/png": "[encoded data removed]",
      "text/plain": [
       "<PIL.Image.Image image mode=RGB size=64x70>"
      ]
     },
     "metadata": {},
     "output_type": "display_data"
    },
    {
     "data": {
      "image/png": "[encoded data removed]",
      "text/plain": [
       "<PIL.Image.Image image mode=RGB size=64x70>"
      ]
     },
     "metadata": {},
     "output_type": "display_data"
    },
    {
     "data": {
      "image/png": "[encoded data removed]",
      "text/plain": [
       "<PIL.Image.Image image mode=RGB size=64x70>"
      ]
     },
     "metadata": {},
     "output_type": "display_data"
    },
    {
     "data": {
      "image/png": "[encoded data removed]",
      "text/plain": [
       "<PIL.Image.Image image mode=RGB size=64x70>"
      ]
     },
     "metadata": {},
     "output_type": "display_data"
    },
    {
     "data": {
      "image/png": "[encoded data removed]",
      "text/plain": [
       "<PIL.Image.Image image mode=RGB size=64x70>"
      ]
     },
     "metadata": {},
     "output_type": "display_data"
    },
    {
     "data": {
      "image/png": "[encoded data removed]",
      "text/plain": [
       "<PIL.Image.Image image mode=RGB size=64x70>"
      ]
     },
     "metadata": {},
     "output_type": "display_data"
    }
   ],
   "source": [
    "# Isolate each glyph\n",
    "glyphs = isolate_glyphs(gray)\n",
    " \n",
    "\n",
    "for x in range(12):\n",
    "\tglyphs[x].show() \n",
    "\n"
   ]
  }
 ],
 "metadata": {
  "kernelspec": {
   "display_name": "Python 3.10.7 64-bit (microsoft store)",
   "language": "python",
   "name": "python3"
  },
  "language_info": {
   "codemirror_mode": {
    "name": "ipython",
    "version": 3
   },
   "file_extension": ".py",
   "mimetype": "text/x-python",
   "name": "python",
   "nbconvert_exporter": "python",
   "pygments_lexer": "ipython3",
   "version": "3.10.8"
  },
  "orig_nbformat": 4,
  "vscode": {
   "interpreter": {
    "hash": "793e1c3583c4c2649ad3fb639f030d9c116c6f8ff8b7683fb3d40af4e681ac4a"
   }
  }
 },
 "nbformat": 4,
 "nbformat_minor": 2
}
